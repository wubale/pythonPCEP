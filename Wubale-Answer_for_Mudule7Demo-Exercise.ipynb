{
 "cells": [
  {
   "cell_type": "markdown",
   "id": "41affa96",
   "metadata": {},
   "source": [
    "### Exercise 1\n",
    "Find the fourth word in a phrase, \"Python is a great first language\". \n",
    "First, split \"Python is a great first language\" into a list and then display the fourth word."
   ]
  },
  {
   "cell_type": "code",
   "execution_count": null,
   "id": "d70ced64",
   "metadata": {},
   "outputs": [],
   "source": [
    "python = \"Python is a great first language\"\n",
    "python_list = python.split()\n",
    "print(python_list)\n",
    "python_list[4]"
   ]
  },
  {
   "cell_type": "markdown",
   "id": "e7caa2f3",
   "metadata": {},
   "source": [
    "### Exercise 2\n",
    "    1. Ask a user for 2 numbers. \n",
    "    2. Generate 5 random numbers between those 2 numbers and save it to a list called nos1. \n",
    "    3. Generate 3 random numbers between those 2 numbers and save it to a list called nos2. \n",
    "    4. Make a copy of nos1 and save it to variable called all_nos.\n",
    "    5. Extend nos2 to the end of nos1.\n",
    "    6. Print original 5 random numbers, 3 random numbers, and all 8 numbers.\n",
    "    "
   ]
  },
  {
   "cell_type": "code",
   "execution_count": null,
   "id": "d91b192a",
   "metadata": {},
   "outputs": [],
   "source": [
    "# ask a user for 2 numbers - do you need to import anything?\n",
    "num1 = int(input(\"Please enter a random number number: \"))\n",
    "num2 = int(input(\"Please enter another random number number: \"))"
   ]
  },
  {
   "cell_type": "code",
   "execution_count": null,
   "id": "fead504f",
   "metadata": {},
   "outputs": [],
   "source": [
    "# generate 5 random numbers between those 2 numbers and save it to a list called nos1\n",
    "import random as rand\n",
    "nos1 = random.randint(num1,num2)\n",
    "print(nos1)"
   ]
  },
  {
   "cell_type": "code",
   "execution_count": null,
   "id": "8e23b645",
   "metadata": {},
   "outputs": [],
   "source": [
    "# generate 3 random numbers between those 2 numbers and save it to a list called nos2\n",
    "\n",
    "import random as rand\n",
    "nos2 = random.randint(num1,num2)\n",
    "print(nos2)"
   ]
  },
  {
   "cell_type": "code",
   "execution_count": null,
   "id": "23170712",
   "metadata": {},
   "outputs": [],
   "source": [
    "# copy nos1 and save to all_nos variable\n",
    "all_nos = nos1.copy()\n",
    "all_nos.extend(nos2)\n",
    "print(all_nos)"
   ]
  },
  {
   "cell_type": "code",
   "execution_count": null,
   "id": "d0acf0c4",
   "metadata": {},
   "outputs": [],
   "source": [
    "#Extend nos2 to the end of nos1.\n",
    "nos1.extend(nos2)"
   ]
  },
  {
   "cell_type": "code",
   "execution_count": null,
   "id": "c37ea4c2",
   "metadata": {},
   "outputs": [],
   "source": [
    "#Print original 5 random numbers, 3 random numbers, and all 8 numbers.\n",
    "print(nos1)\n",
    "print(nos2)\n",
    "print(all_nos)"
   ]
  },
  {
   "cell_type": "markdown",
   "id": "a18a5933",
   "metadata": {},
   "source": [
    "### Exercise 3\n",
    "Get 7 book tittles from a user and save it in a list.\n",
    "Then, remove the title in the middle of the list after sorting them alphabetically. \n",
    "Display the original tittles, sorted tittles, and titles after removing one."
   ]
  },
  {
   "cell_type": "code",
   "execution_count": null,
   "id": "05ec9340",
   "metadata": {},
   "outputs": [],
   "source": [
    "book1= input(\"Please type the title of the first book:\") #Should I write 7 lines of code and then copy all of the books to a single list?\n",
    "book_removed = books.remove(3)#books is the collection of the 7 books.Removing the middle book\n",
    "print(books)#displays the original book's Title\n",
    "books.sort()#sorted in Titles\n",
    "book_removed.sort()# After removed\n"
   ]
  },
  {
   "cell_type": "code",
   "execution_count": null,
   "id": "89c6a1b2",
   "metadata": {},
   "outputs": [],
   "source": []
  },
  {
   "cell_type": "markdown",
   "id": "b602f1c3",
   "metadata": {},
   "source": [
    "### Exercise 4\n",
    "If you save $1,000 every year with 1% annual interest, how much would you save in 5 years?\n",
    "\n",
    "Fix code in below cell and show it works."
   ]
  },
  {
   "cell_type": "code",
   "execution_count": null,
   "id": "46e9ca19",
   "metadata": {},
   "outputs": [],
   "source": [
    "# original\n",
    "\n",
    "rate = 1\n",
    "savings = 0\n",
    "\n",
    "for i in range(1, 5) :\n",
    "    savings = savings + 1000 \n",
    "    savings = savings * rate\n",
    "\n",
    "print(f\"savings:${savings:,.2f}\")  "
   ]
  },
  {
   "cell_type": "code",
   "execution_count": null,
   "id": "60b88b9b",
   "metadata": {},
   "outputs": [],
   "source": [
    "# original\n",
    "\n",
    "rate = 1/100  # 0.01\n",
    "savings = 0\n",
    "total = 0\n",
    "\n",
    "for i in range(1, 6) :\n",
    "    savings = total + 1000 \n",
    "    total = (savings * rate)  + savings\n",
    "\n",
    "print(f\"total:${total:,.2f}\")    "
   ]
  },
  {
   "cell_type": "code",
   "execution_count": null,
   "id": "ca8a73b8",
   "metadata": {},
   "outputs": [],
   "source": []
  }
 ],
 "metadata": {
  "kernelspec": {
   "display_name": "Python 3",
   "language": "python",
   "name": "python3"
  },
  "language_info": {
   "codemirror_mode": {
    "name": "ipython",
    "version": 3
   },
   "file_extension": ".py",
   "mimetype": "text/x-python",
   "name": "python",
   "nbconvert_exporter": "python",
   "pygments_lexer": "ipython3",
   "version": "3.8.8"
  }
 },
 "nbformat": 4,
 "nbformat_minor": 5
}
