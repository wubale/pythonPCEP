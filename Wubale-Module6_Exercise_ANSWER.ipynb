{
 "cells": [
  {
   "cell_type": "markdown",
   "metadata": {},
   "source": [
    "### Exercise 1\n",
    "Convert following decimal number to a binary number by hand:\n",
    "\n",
    "    61\n",
    "    15\n",
    "    71\n",
    "    "
   ]
  },
  {
   "cell_type": "code",
   "execution_count": null,
   "metadata": {},
   "outputs": [],
   "source": [
    "#61=0011 1101\n",
    "#15=0000 1111\n",
    "#71= 0100 0111\n",
    "\n"
   ]
  },
  {
   "cell_type": "markdown",
   "metadata": {},
   "source": [
    "### Exercise 2\n",
    "When a = 61 and b = 15, what is the result of following bitwise opertion? Use inline comments to show your result in a binary number. Find your answer by hand.\n",
    "\n",
    "    a & b\n",
    "    a | b\n",
    "    a ^ b\n",
    "    a >> 2\n",
    "    "
   ]
  },
  {
   "cell_type": "code",
   "execution_count": null,
   "metadata": {},
   "outputs": [],
   "source": [
    "# convert a in to a binary number\n",
    "a = 61\n",
    "b = 15\n",
    "\n",
    "#bin(a)= 0011 1101\n",
    "\n",
    "# convert b in to a binary number\n",
    "\n",
    "#bin(b)= 0000 1111"
   ]
  },
  {
   "cell_type": "code",
   "execution_count": null,
   "metadata": {},
   "outputs": [],
   "source": [
    "# a & b\n",
    "a & b  = 0000 1101\n"
   ]
  },
  {
   "cell_type": "code",
   "execution_count": null,
   "metadata": {},
   "outputs": [],
   "source": [
    "# a | b\n",
    "a / b = 0011 1111"
   ]
  },
  {
   "cell_type": "code",
   "execution_count": null,
   "metadata": {},
   "outputs": [],
   "source": [
    "# a ^ b\n",
    "a ^ b =0011 0010"
   ]
  },
  {
   "cell_type": "code",
   "execution_count": null,
   "metadata": {},
   "outputs": [],
   "source": [
    "# a >> 2\n",
    "a >> 2 = 0000 1100"
   ]
  },
  {
   "cell_type": "markdown",
   "metadata": {},
   "source": [
    "### Exercise 3\n",
    "Ask a user for a code and store that answer. \n",
    "If the answer is <b>grey</b> then print \"You found secret code.\"\n",
    "Otherwise print that the entered code is not the secret code."
   ]
  },
  {
   "cell_type": "code",
   "execution_count": null,
   "metadata": {},
   "outputs": [],
   "source": [
    "def code(answer) :\n",
    "    if answer == \"grey\" :\n",
    "        print(\"You found secret code.\")\n",
    "    else : \n",
    "        print(\"The entered code is not the secret code.\")\n",
    "        \n",
    "answer = input(\"Please enter your code: \")\n",
    "print(code(answer))"
   ]
  },
  {
   "cell_type": "code",
   "execution_count": null,
   "metadata": {},
   "outputs": [],
   "source": [
    "#answer = input(\"Please enter your code: \")\n",
    "#print(code(answer))"
   ]
  },
  {
   "cell_type": "markdown",
   "metadata": {},
   "source": [
    "### Exercise 4\n",
    "Ask for an exam score and store that number. If the number is greater than 100, then print out 'You cannot have an exam score higher than 100'. If the number doesn't exceeed 100 but is greater than or equal to 75, then print out 'You did great on your exam!'. Otherwise if they scored lower than 75, then print out 'You need to study harder'."
   ]
  },
  {
   "cell_type": "code",
   "execution_count": null,
   "metadata": {},
   "outputs": [],
   "source": [
    "def exam_score(exam) :\n",
    "    if exam > 100 :\n",
    "        print(\"You cannot have an exam score higher than 100.\")\n",
    "    elif exam >= 75: \n",
    "        print(\"You did great on your exam!\")\n",
    "    else :\n",
    "        print(\"You need to study harder\")\n",
    "        \n",
    "exam = int(input(\"Please enter your exam result: \"))\n",
    "print (exam_score(exam))"
   ]
  },
  {
   "cell_type": "markdown",
   "metadata": {},
   "source": [
    "### Exercise 5\n",
    "Write a function to convert a test score to a grade where  \n",
    " - 90 - 100: A\n",
    " - 80 - 89:  B\n",
    " - 70 - 79:  C\n",
    " - 60 - 69:  D\n",
    " - < 60   :  F\n",
    " \n",
    "If a score is not between 0 and 100 then print out an error message. In the program, ask the user for a score and then call your function. "
   ]
  },
  {
   "cell_type": "code",
   "execution_count": 52,
   "metadata": {},
   "outputs": [],
   "source": [
    "# define your function\n",
    "def converting_grade(testScore) :\n",
    "    if testScore >100 :\n",
    "        print(\"Please enter your test score between 0 and 100\")\n",
    "    elif testScore >= 90:\n",
    "        print(\"Your grade is A\")\n",
    "    elif testScore >= 80 :\n",
    "        print(\"Your grade is B\")\n",
    "    elif testScore >= 70 :\n",
    "        print(\"Your grade is C\")\n",
    "    elif testScore >= 60 :\n",
    "        print(\"Your grade is D\")\n",
    "    elif testScore >= 0 :\n",
    "        print(\"Your grade is F\")\n",
    "    else :\n",
    "        print(\"Please check Your score again.\")\n",
    "    return \n",
    "    "
   ]
  },
  {
   "cell_type": "code",
   "execution_count": null,
   "metadata": {},
   "outputs": [],
   "source": [
    "# ask the user for a score and then call your function\n",
    "testScore = int(input(\"Please enter your test score between 0 and 100: \"))\n",
    "print (converting_grade(testScore))"
   ]
  }
 ],
 "metadata": {
  "kernelspec": {
   "display_name": "Python 3",
   "language": "python",
   "name": "python3"
  },
  "language_info": {
   "codemirror_mode": {
    "name": "ipython",
    "version": 3
   },
   "file_extension": ".py",
   "mimetype": "text/x-python",
   "name": "python",
   "nbconvert_exporter": "python",
   "pygments_lexer": "ipython3",
   "version": "3.8.8"
  }
 },
 "nbformat": 4,
 "nbformat_minor": 4
}
