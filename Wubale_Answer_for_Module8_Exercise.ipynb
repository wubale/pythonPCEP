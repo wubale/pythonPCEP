{
 "cells": [
  {
   "cell_type": "markdown",
   "metadata": {},
   "source": [
    "### Exercise 1\n",
    "Create a multiplication table from 1 to 10"
   ]
  },
  {
   "cell_type": "code",
   "execution_count": null,
   "metadata": {},
   "outputs": [],
   "source": [
    "x=10 # row values up to 10 \n",
    "y=10 # column values \n",
    "for i in range(1,x+1):\n",
    "    for j in range(1,y+1):\n",
    "        multiplication=i*j\n",
    "        print(\"{:2d} \".format(multiplication),end='')\n",
    "    print(\"\\n\") "
   ]
  },
  {
   "cell_type": "markdown",
   "metadata": {},
   "source": [
    "### Exercise 2\n",
    "Write a program to find the Fibonacci numbers where each number is the sum of the two preceding ones, starting from 0 and 1. \n",
    "\n",
    "    e.g.\n",
    "    0, 1, 1, 2, 3, 5, 8, ...\n",
    "    \n",
    "Ask a user to enter a number of sequence. Generate the Fibonacci numbers in to a list. Then, print out the list.  \n",
    "\n",
    "The output should look something like this:\n",
    "\n",
    "    How many Fibonacci numbers would you like to generate? 10    \n",
    "    10 Fibonacci numbers are [0, 1, 1, 2, 3, 5, 8, 13, 21, 34]."
   ]
  },
  {
   "cell_type": "code",
   "execution_count": null,
   "metadata": {},
   "outputs": [],
   "source": [
    "# Enter Fibonacci numbers needed                   #0,1,1,2,3,5....\n",
    "list=[]\n",
    "number=int(input(\"How many Fibonacci numbers would you like to generate? \"))\n",
    "i=0                                         #first number\n",
    "j=1                                         #second number\n",
    "if number<=0:\n",
    "    print(\"Please enter a positive integer number\")\n",
    "else:\n",
    "    print(i,j,end=\" \")\n",
    "    for x in range(2,number):\n",
    "        temp_fib =i+j                           \n",
    "        print(temp_fib,end=\" \")\n",
    "        list.append(temp_fib)\n",
    "        i=j\n",
    "        j=temp_fib\n",
    "\n",
    "        \n",
    "        #print(f\"Investing ${invest:,.2f} for 20 years at {rate}% yields ${total:,.2f}\") \n",
    "        #10 Fibonacci numbers are [0, 1, 1, 2, 3, 5, 8, 13, 21, 34]."
   ]
  }
 ],
 "metadata": {
  "kernelspec": {
   "display_name": "Python 3",
   "language": "python",
   "name": "python3"
  },
  "language_info": {
   "codemirror_mode": {
    "name": "ipython",
    "version": 3
   },
   "file_extension": ".py",
   "mimetype": "text/x-python",
   "name": "python",
   "nbconvert_exporter": "python",
   "pygments_lexer": "ipython3",
   "version": "3.8.8"
  }
 },
 "nbformat": 4,
 "nbformat_minor": 4
}
