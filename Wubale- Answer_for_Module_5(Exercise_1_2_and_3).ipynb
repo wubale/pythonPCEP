{
 "cells": [
  {
   "cell_type": "markdown",
   "id": "6790eef4",
   "metadata": {},
   "source": [
    "Exercise 1\n",
    "\n",
    "Ask a user for two numbers. Then\n",
    "\n",
    "    generate 2 random numbers between 2 numbers provided by a user.\n",
    "    compute two numbers' multiplication\n",
    "    compute two numbers' division - round the result to the nearest 100th places (2 decimal places) using round() function.\n",
    "    print out computation results using string format method.\n",
    "    print out computation results using f-string\n",
    "\n",
    "\n"
   ]
  },
  {
   "cell_type": "code",
   "execution_count": null,
   "id": "4bfd958b",
   "metadata": {},
   "outputs": [],
   "source": [
    "# Do you need to import any library?\n",
    "#Yes(?!)\n",
    "\n",
    "\n",
    "# get two numbers from a user - what data type is it? \n",
    "# it is integer."
   ]
  },
  {
   "cell_type": "code",
   "execution_count": null,
   "id": "7729a44f",
   "metadata": {},
   "outputs": [],
   "source": [
    "# generate two random numbers\n",
    "num1 = int(input(\"Enter any integer number between 1 and 10:\"))\n",
    "num2 = int(input(\"Enter another integer number between 1 and 10:\"))\n"
   ]
  },
  {
   "cell_type": "code",
   "execution_count": null,
   "id": "79deed85",
   "metadata": {},
   "outputs": [],
   "source": [
    "# compute multipliction\n",
    "print(num1 * num2)\n",
    "\n",
    "# compute division\n",
    "print(num1/num2)\n",
    "\n",
    "# Round the result to the nearest 100th places (2 decimal places) using round() function.\n",
    "print(round(num1/num2,2))\n"
   ]
  },
  {
   "cell_type": "code",
   "execution_count": null,
   "id": "214a5a81",
   "metadata": {},
   "outputs": [],
   "source": [
    "# print out computation results using string format method\n",
    "\n",
    "print(\"The multiplication of the two numbers is:\", num1 * num2)\n",
    "print(\"The division of the two numbers is:\", num1 / num2)"
   ]
  },
  {
   "cell_type": "code",
   "execution_count": null,
   "id": "c19b7c21",
   "metadata": {},
   "outputs": [],
   "source": [
    "# print out computation results using f-string\n",
    "print(f\"The multiplication of the two numbers is {num1*num2}\")\n",
    "print(f\"The division the two numbers is {num1/num2}\")\n"
   ]
  },
  {
   "cell_type": "code",
   "execution_count": null,
   "id": "2562e954",
   "metadata": {},
   "outputs": [],
   "source": [
    "## Exercise 2\n",
    "Write a function called compute() to calculate an area and a perimeter of a rectangle.\n",
    "compute() function will be used in a program as below cell. Fix bugs and edit cells if needed.\n",
    "Run all necessary cells in order to show your function works.\n",
    "\n",
    "The output should be something like this:\n",
    "\n",
    "    Please enter length: 25\n",
    "    Please enter width: 10\n",
    "\n",
    "    Area is 250\n",
    "    Perimeter is 70"
   ]
  },
  {
   "cell_type": "code",
   "execution_count": null,
   "id": "42ea1607",
   "metadata": {},
   "outputs": [],
   "source": [
    "# write code for function called compute() here\n",
    "def compute(width, length) :\n",
    "    Area = width*length\n",
    "    Perimeter = 2*(width + length)\n",
    "    \n",
    "\n",
    "length = input(\"Please enter length: \")\n",
    "width = input(\"Please enter width: \")\n",
    "\n",
    "print(\"Area of the rectangle is: \", Area)\n",
    "print(\"Perimeter of the rectangle is: \", Perimeter)\n"
   ]
  },
  {
   "cell_type": "code",
   "execution_count": null,
   "id": "f30586ea",
   "metadata": {},
   "outputs": [],
   "source": [
    "# run this cell and fix any errors\n",
    "\n",
    "length = int(input(\"Please enter length: \"))\n",
    "width = int(input(\"Please enter width: \"))\n",
    "\n",
    "Area = width*length\n",
    "Perimeter = 2*(width + length)\n",
    "print(\"Area of the rectangle is: \", Area)\n",
    "print(\"Perimeter of the rectangle is: \", Perimeter)\n",
    "print(\"\")\n",
    "compute(width, length)\n",
    "compute(length, width)"
   ]
  },
  {
   "cell_type": "code",
   "execution_count": null,
   "id": "c3216b03",
   "metadata": {},
   "outputs": [],
   "source": [
    "## Exercise 3\n",
    "Write a lambda function to convert an integer to a binary number. <br>\n",
    "Show that your lambda function works, using int() function.\n"
   ]
  },
  {
   "cell_type": "code",
   "execution_count": null,
   "id": "1c4f902a",
   "metadata": {},
   "outputs": [],
   "source": [
    "# lambda function definition\n",
    "number = lambda a : a\n",
    "print(number(8))\n",
    "binary = bin(8)\n",
    "print(binary) "
   ]
  },
  {
   "cell_type": "code",
   "execution_count": null,
   "id": "854021ab",
   "metadata": {},
   "outputs": [],
   "source": [
    "int(0b1000)"
   ]
  },
  {
   "cell_type": "code",
   "execution_count": null,
   "id": "e50a6e19",
   "metadata": {},
   "outputs": [],
   "source": []
  }
 ],
 "metadata": {
  "kernelspec": {
   "display_name": "Python 3",
   "language": "python",
   "name": "python3"
  },
  "language_info": {
   "codemirror_mode": {
    "name": "ipython",
    "version": 3
   },
   "file_extension": ".py",
   "mimetype": "text/x-python",
   "name": "python",
   "nbconvert_exporter": "python",
   "pygments_lexer": "ipython3",
   "version": "3.8.8"
  }
 },
 "nbformat": 4,
 "nbformat_minor": 5
}
